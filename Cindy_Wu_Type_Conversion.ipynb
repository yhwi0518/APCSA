{
  "nbformat": 4,
  "nbformat_minor": 0,
  "metadata": {
    "colab": {
      "provenance": []
    },
    "kernelspec": {
      "name": "python3",
      "display_name": "Python 3"
    },
    "language_info": {
      "name": "python"
    }
  },
  "cells": [
    {
      "cell_type": "markdown",
      "source": [
        "---\n",
        "\n",
        "### **Type Conversion & User Input**\n",
        "\n",
        "---\n",
        "\n",
        "**I. Introduction to Type Conversion**\n",
        "\n",
        "- **Concept of Data Types and Compatibility:**\n",
        "    - Sometimes, different data types can't directly interact or work together.\n",
        "    - For instance, you can't directly add a text representation of a number (string) to an actual number (integer or float).\n",
        "\n",
        "- **Implicit vs. Explicit Type Conversion:**\n",
        "    - **Implicit:** Done automatically by the compiler/interpreter.\n",
        "    - **Explicit:** Done intentionally by the programmer.\n",
        "\n",
        "---\n",
        "\n",
        "**II. Implicit Type Conversion**\n",
        "\n",
        "- **Definition:**\n",
        "    - When the Python interpreter automatically changes one data type to another without the programmer's intervention.\n",
        "\n",
        "- **Examples:**\n",
        "    - Combining an integer with a float results in a float.\n",
        "    ```python\n",
        "    result = 3 + 4.5  # result is 7.5, a float\n",
        "    ```\n",
        "    - Combining an integer with a string can lead to errors.\n",
        "    \n",
        "- **Potential Pitfalls:**\n",
        "    - **Loss of Data:** Converting from float to integer discards the decimal part.\n",
        "    - **Unexpected Results:** Implicit conversion might not always yield the expected outcome.\n",
        "    - **Type Errors:** Some implicit conversions aren't allowed and can cause errors.\n",
        "\n",
        "---\n",
        "\n",
        "**III. Explicit Type Conversion**\n",
        "\n",
        "- **Definition:**\n",
        "    - When the programmer intentionally converts one data type to another using built-in functions.\n",
        "\n",
        "- **Conversion Functions:**\n",
        "    - `int()`: Converts a value to an integer.\n",
        "    - `float()`: Converts a value to a floating-point number.\n",
        "    - `str()`: Converts a value to a string.\n",
        "\n",
        "- **Demonstrations:**\n",
        "    - Convert a float to an integer:\n",
        "    ```python\n",
        "    integer_value = int(7.8)  # Result is 7\n",
        "    ```\n",
        "    - Convert an integer to a string:\n",
        "    ```python\n",
        "    string_value = str(25)  # Result is \"25\"\n",
        "    ```\n",
        "\n",
        "---\n",
        "\n",
        "**IV. Input from Users using the `input()` function**\n",
        "\n",
        "- **Introduction to `input()`:**\n",
        "    - A built-in Python function to take user input from the console.\n",
        "    \n",
        "- **Characteristics of `input()`:**\n",
        "    - The data obtained using `input()` is always a string. To use it as other data types, you need to convert it explicitly.\n",
        "\n",
        "---\n"
      ],
      "metadata": {
        "id": "CUpoFbofG8dq"
      }
    },
    {
      "cell_type": "markdown",
      "source": [
        "**1. Word Repetition Game**\n",
        "- Ask the user for a word and a number.\n",
        "- Convert the number to an integer and repeat the word that many times.\n",
        "- Example:\n",
        "    - Input: Word: \"Hello\", Number: \"3\"\n",
        "    - Output: \"HelloHelloHello\"\n",
        "\n",
        "---"
      ],
      "metadata": {
        "id": "wxkjUHtsH2hr"
      }
    },
    {
      "cell_type": "code",
      "source": [
        "#Ex1\n",
        "hi=str(input('hi, type anything here: '))\n",
        "how_many=int(input('how many time are you going to repeat? '))\n",
        "print (hi*how_many)"
      ],
      "metadata": {
        "id": "hUtSMYsVH-eY",
        "colab": {
          "base_uri": "https://localhost:8080/"
        },
        "outputId": "a7cc5bb1-9f8f-4478-bcc0-ee06a4a96262"
      },
      "execution_count": 55,
      "outputs": [
        {
          "output_type": "stream",
          "name": "stdout",
          "text": [
            "hi, type anything here: Hello\n",
            "how many time are you going to repeat? 3\n",
            "HelloHelloHello\n"
          ]
        }
      ]
    },
    {
      "cell_type": "markdown",
      "source": [
        "**2. Money Calculator**\n",
        "- Prompt the user for the number of coins they have (like pennies, nickels, dimes, and quarters).\n",
        "- Convert the input to integers.\n",
        "- Calculate the total amount in dollars and cents.\n",
        "\n",
        "---"
      ],
      "metadata": {
        "id": "eUlwvePkH_-D"
      }
    },
    {
      "cell_type": "code",
      "source": [
        "#Ex2\n",
        "pennies=int(input('how many pennies you have?'))\n",
        "penny=0.01\n",
        "nickels=int(input('what about nickels?'))\n",
        "nickel=0.05\n",
        "dimes=int(input('dimes?'))\n",
        "dime=0.1\n",
        "quarters=int(input('now, how many quarters you have?'))\n",
        "quarter=0.25\n",
        "print ('your total amount in dollars and cents is', pennies*penny+nickels*nickel+dimes*dime+quarters*quarter)"
      ],
      "metadata": {
        "id": "A43ujndhIGo_",
        "colab": {
          "base_uri": "https://localhost:8080/"
        },
        "outputId": "37eac426-461a-4242-fe9c-11fc605f86ec"
      },
      "execution_count": 52,
      "outputs": [
        {
          "output_type": "stream",
          "name": "stdout",
          "text": [
            "how many pennies you have?100\n",
            "what about nickels?1000\n",
            "dimes?200\n",
            "now, how many quarters you have?500\n",
            "your total amount in dollars and cents is 196.0\n"
          ]
        }
      ]
    },
    {
      "cell_type": "markdown",
      "source": [
        "**3. Movie Time**\n",
        "- Ask the user how long a movie is in minutes (e.g., \"120\").\n",
        "- Convert this to hours and minutes and display it.\n",
        "- Example:\n",
        "    - Input: \"140\"\n",
        "    - Output: \"The movie is 2 hours and 20 minutes long.\"\n",
        "\n",
        "---"
      ],
      "metadata": {
        "id": "1cSXQp50ILlb"
      }
    },
    {
      "cell_type": "code",
      "source": [
        "#Ex3\n",
        "minutes=int(input('how long is a movie? (in minutes): '))\n",
        "hour=60\n",
        "minutes/hour\n",
        "rounded_number=round(minutes/hour)\n",
        "reminder=minutes%hour\n",
        "print ('The moview is', rounded_number, 'hours and', reminder, 'minutes long.')"
      ],
      "metadata": {
        "id": "6GCnZ9g7IQnZ",
        "colab": {
          "base_uri": "https://localhost:8080/"
        },
        "outputId": "47317500-90c1-4294-d750-29ecf9b4fc1a"
      },
      "execution_count": 51,
      "outputs": [
        {
          "output_type": "stream",
          "name": "stdout",
          "text": [
            "how long is a movie? (in minutes): 140\n",
            "The moview is 2 hours and 20 minutes long.\n"
          ]
        }
      ]
    },
    {
      "cell_type": "markdown",
      "source": [
        "**4. Age in Days**\n",
        "- Have the user input their age in years.\n",
        "- Convert the age to days (ignoring leap years) and display the result.\n",
        "- Example:\n",
        "    - Input: \"25\"\n",
        "    - Output: \"You are approximately 9125 days old.\"\n",
        "\n",
        "---\n"
      ],
      "metadata": {
        "id": "DJD0fXVUISLH"
      }
    },
    {
      "cell_type": "code",
      "source": [
        "#Ex4\n",
        "years=int(input('what is your age in years?: '))\n",
        "days=years*365\n",
        "print ('you are approximately',days, 'days old.')"
      ],
      "metadata": {
        "id": "L3TeR-x-IXj_",
        "colab": {
          "base_uri": "https://localhost:8080/"
        },
        "outputId": "0c2d1403-a695-412c-86da-969e00febab3"
      },
      "execution_count": 50,
      "outputs": [
        {
          "output_type": "stream",
          "name": "stdout",
          "text": [
            "what is your age in years?: 25\n",
            "you are approximately 9125 days old.\n"
          ]
        }
      ]
    },
    {
      "cell_type": "markdown",
      "source": [
        "**5. String Calculator**\n",
        "- Ask the user for two numbers but as strings (e.g., \"12\" and \"15\").\n",
        "- Convert these strings to integers and perform basic arithmetic operations on them (addition, subtraction, multiplication).\n",
        "\n",
        "---"
      ],
      "metadata": {
        "id": "sEcfkwlfIZJv"
      }
    },
    {
      "cell_type": "code",
      "source": [
        "#Ex5\n",
        "print ('choose two numbers!')\n",
        "first=int(input('your first number from 0 to 100: '))\n",
        "second=int(input('now choose your second number from 0 to 100: '))\n",
        "addition=first+second\n",
        "subtraction=first-second\n",
        "multiplication=first*second\n",
        "division=first/second\n",
        "print ('addition=',addition)\n",
        "print ('subtraction=', subtraction)\n",
        "print ('multiplication=', multiplication)\n",
        "print ('division=', division)"
      ],
      "metadata": {
        "id": "kjKUS4-gIdrC",
        "colab": {
          "base_uri": "https://localhost:8080/"
        },
        "outputId": "aaf4fc98-a2f5-42bc-be15-25c0ba130b5a"
      },
      "execution_count": 49,
      "outputs": [
        {
          "output_type": "stream",
          "name": "stdout",
          "text": [
            "choose two numbers!\n",
            "your first number from 0 to 100: 12\n",
            "now choose your second number from 0 to 100: 15\n",
            "addition= 27\n",
            "subtraction= -3\n",
            "multiplication= 180\n",
            "division= 0.8\n"
          ]
        }
      ]
    },
    {
      "cell_type": "markdown",
      "source": [
        "**6. Weight Converter**\n",
        "- Prompt the user for their weight in pounds.\n",
        "- Convert the weight to kilograms (using the conversion 1 pound = 0.453592 kilograms) and display the result.\n",
        "\n",
        "---"
      ],
      "metadata": {
        "id": "XU-uz7_gIfar"
      }
    },
    {
      "cell_type": "code",
      "source": [
        "#Ex6\n",
        "pounds=int(input('your weight in pounds: '))\n",
        "pound=0.453592\n",
        "kilograms=pounds*pound\n",
        "rounded_number=round(pounds*pound,3)\n",
        "print ('your weight in kilograms is', rounded_number, '.')"
      ],
      "metadata": {
        "id": "uM2885UFIi4-",
        "colab": {
          "base_uri": "https://localhost:8080/"
        },
        "outputId": "0e2410e2-1604-467f-d086-fbc093d96471"
      },
      "execution_count": 47,
      "outputs": [
        {
          "output_type": "stream",
          "name": "stdout",
          "text": [
            "your weight in pounds: 100\n",
            "your weight in kilograms is 45.359 .\n"
          ]
        }
      ]
    },
    {
      "cell_type": "markdown",
      "source": [
        "**7. Temperature Alert**\n",
        "- Ask the user for the temperature in Fahrenheit.\n",
        "- Convert it to Celsius.\n",
        "- If the temperature in Celsius is below 0, print an alert that it's freezing!\n",
        "\n",
        "---"
      ],
      "metadata": {
        "id": "Vqf3KRegIkwG"
      }
    },
    {
      "cell_type": "code",
      "source": [
        "#Ex7\n",
        "F=int(input('what is the current temperature in Fahrenheit?: '))\n",
        "C=(F-32)*5/9\n",
        "rounded_number=round(C,2)\n",
        "print ('now, it is',rounded_number,'°Celcius')\n",
        "if C<0:\n",
        "  print ('Alert: IT IS FREEZING!')"
      ],
      "metadata": {
        "id": "Bvn01u27InZD",
        "colab": {
          "base_uri": "https://localhost:8080/"
        },
        "outputId": "8b32780c-5274-45cc-f1f9-f543996436b6"
      },
      "execution_count": 45,
      "outputs": [
        {
          "output_type": "stream",
          "name": "stdout",
          "text": [
            "what is the current temperature in Fahrenheit?: 29\n",
            "now, it is -1.67 °Celcius\n",
            "Alert: IT IS FREEZING!\n"
          ]
        }
      ]
    },
    {
      "cell_type": "markdown",
      "source": [
        "**8. User Feedback Rating**\n",
        "- Ask the user to rate a product on a scale of 1-10, but they should input it as a word (e.g., \"seven\").\n",
        "- Convert the word to its corresponding number. (This requires a bit more logic, using a dictionary or if-else statements.)\n",
        "- Display a message based on the number (e.g., for ratings 8-10, display \"Thank you! We're glad you loved it!\").\n",
        "\n",
        "---"
      ],
      "metadata": {
        "id": "HtgxB-B0IpTW"
      }
    },
    {
      "cell_type": "code",
      "source": [
        "#Ex8\n",
        "rate=int(input('rate your ninetendo switch on a scale of 1-10: '))\n",
        "if rate>7:\n",
        "  print ('Thank you! We are glad you loved it!')\n",
        "else:\n",
        "  print ('Thank you! We will continue develop our product, would you like to give more feedback?')\n",
        "#Congrats on maxing it this far! You rock!!!"
      ],
      "metadata": {
        "id": "_THFynUpIqTw",
        "colab": {
          "base_uri": "https://localhost:8080/"
        },
        "outputId": "68d24340-62aa-4ef6-b581-8453958f1870"
      },
      "execution_count": 44,
      "outputs": [
        {
          "output_type": "stream",
          "name": "stdout",
          "text": [
            "rate your ninetendo switch on a scale of 1-10: 10\n",
            "Thank you! We are glad you loved it!\n"
          ]
        }
      ]
    },
    {
      "cell_type": "markdown",
      "source": [
        "In Python, both the comma (`,`) and the plus (`+`) sign can be used with the `print` function, but they serve different purposes and have different behaviors. Here are the main differences:\n",
        "\n",
        "1. **Type Compatibility**:\n",
        "   - **Comma (`,`)**: You can use the comma to concatenate items of different types without explicitly converting them. The `print` function will internally convert the arguments to strings.\n",
        "   - **Plus (`+`)**: When using the plus sign, the items being concatenated must be of the same type. If you're trying to concatenate a string with a number, for instance, you'll need to explicitly convert the number to a string using `str()`.\n",
        "\n",
        "2. **Output Spacing**:\n",
        "   - **Comma (`,`)**: When using a comma, the `print` function will insert a space between the items.\n",
        "   - **Plus (`+`)**: The plus sign will concatenate the items directly without any space in between.\n",
        "\n",
        "3. **Flexibility**:\n",
        "   - **Comma (`,`)**: You can print multiple items of different types easily, and also include additional parameters like `end` and `sep`.\n",
        "   - **Plus (`+`)**: It's primarily for string concatenation, and you'd have to manage type conversions yourself.\n",
        "\n",
        "Here's a demonstration of the differences:\n",
        "\n",
        "```python\n",
        "x = 5\n",
        "y = \"Hello\"\n",
        "\n",
        "# Using comma\n",
        "print(y, x)\n",
        "\n",
        "# Using plus (requires explicit type conversion for non-string types)\n",
        "print(y + \" \" + str(x))\n",
        "```\n",
        "\n",
        "The output for the above code would be:\n",
        "\n",
        "```\n",
        "Hello 5\n",
        "Hello 5\n",
        "```\n",
        "\n",
        "Let's run a demonstration to see the differences in action.\n",
        "\n",
        "As demonstrated:\n",
        "\n",
        "Using the comma (`,`):\n",
        "```\n",
        "Output: Hello 5\n",
        "```\n",
        "\n",
        "Using the plus (`+`):\n",
        "```\n",
        "Output: Hello 5\n",
        "```\n",
        "\n",
        "In both cases, the outputs are the same in this example. However, the distinction comes in how they handle different types and spacing, as previously explained. Using the comma is generally more forgiving and flexible for printing multiple items, while the plus sign requires more care regarding type compatibility and formatting."
      ],
      "metadata": {
        "id": "CPVKyuY2KKjd"
      }
    }
  ]
}