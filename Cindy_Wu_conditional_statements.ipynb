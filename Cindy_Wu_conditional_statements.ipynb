{
  "nbformat": 4,
  "nbformat_minor": 0,
  "metadata": {
    "colab": {
      "provenance": []
    },
    "kernelspec": {
      "name": "python3",
      "display_name": "Python 3"
    },
    "language_info": {
      "name": "python"
    }
  },
  "cells": [
    {
      "cell_type": "markdown",
      "source": [
        "### **Introduction to Conditional Statements**\n",
        "\n",
        "Conditional statements allow a program to evaluate specific conditions and make decisions based on those conditions. They introduce the concept of branching, where a program can follow different paths of execution based on certain criteria.\n",
        "\n",
        "---\n",
        "\n",
        "### **Understanding if, elif, and else Statements**\n",
        "\n",
        "**1. `if` Statement:**\n",
        "- The most basic type of conditional statement.\n",
        "- Evaluates a condition, and if it's `True`, the code inside the `if` block is executed.\n",
        "\n",
        "  **Example:**\n",
        "  ```python\n",
        "  age = 20\n",
        "  if age >= 18:\n",
        "      print(\"You are an adult!\")\n",
        "  ```\n",
        "\n",
        "**2. `elif` Statement:**\n",
        "- Short for \"else if\".\n",
        "- Used to check multiple conditions after the initial `if` condition.\n",
        "- The `elif` block is executed if its condition is `True`.\n",
        "\n",
        "  **Example:**\n",
        "  ```python\n",
        "  score = 85\n",
        "  if score >= 90:\n",
        "      grade = \"A\"\n",
        "  elif score >= 80:\n",
        "      grade = \"B\"\n",
        "  ```\n",
        "\n",
        "**3. `else` Statement:**\n",
        "- Catches anything which isn't caught by the preceding conditions.\n",
        "- Does not have a condition attached to it.\n",
        "\n",
        "  **Example:**\n",
        "  ```python\n",
        "  age = 15\n",
        "  if age >= 18:\n",
        "      print(\"You are an adult!\")\n",
        "  else:\n",
        "      print(\"You are a minor!\")\n",
        "  ```\n",
        "\n",
        "---\n",
        "\n",
        "### **Writing Conditions Using Comparison Operators**\n",
        "\n",
        "**1. `==`:** Checks if two values are equal.\n",
        "  - **Example:** `x == y`\n",
        "\n",
        "**2. `!=`:** Checks if two values are not equal.\n",
        "  - **Example:** `x != y`\n",
        "\n",
        "**3. `>`:** Checks if the value on the left is greater than the one on the right.\n",
        "  - **Example:** `x > y`\n",
        "\n",
        "**4. `<`:** Checks if the value on the left is less than the one on the right.\n",
        "  - **Example:** `x < y`\n",
        "\n",
        "**5. `>=`:** Checks if the value on the left is greater than or equal to the one on the right.\n",
        "  - **Example:** `x >= y`\n",
        "\n",
        "**6. `<=`:** Checks if the value on the left is less than or equal to the one on the right.\n",
        "  - **Example:** `x <= y`\n",
        "\n",
        "---\n"
      ],
      "metadata": {
        "id": "CjxdWcqxPhy0"
      }
    },
    {
      "cell_type": "markdown",
      "source": [
        "\n",
        "### **Practice Exercises:**\n",
        "\n",
        "1. **Weekday or Weekend:**\n",
        "    - Ask the user to input a day of the week (e.g., Monday, Tuesday, etc.).\n",
        "    - Inform them if the day is a weekday or a weekend.\n",
        "\n"
      ],
      "metadata": {
        "id": "Jim4Rsi7Pn0G"
      }
    },
    {
      "cell_type": "code",
      "source": [
        "day=str(input('choose a day of the week: '))\n",
        "if day == \"monday\":\n",
        "  print ('it is a weekday')\n",
        "if day =='tuesday':\n",
        "  print ('it is a weekday')\n",
        "if day == 'wednesday':\n",
        "  print ('it is a weekday')\n",
        "if day == 'thursday':\n",
        "  print ('it is a weekday')\n",
        "if day == 'friday':\n",
        "  print ('it is a weekday')\n",
        "else:\n",
        "  print ('it is a weekend')"
      ],
      "metadata": {
        "id": "TkrdpDJXRKeJ",
        "colab": {
          "base_uri": "https://localhost:8080/"
        },
        "outputId": "1596b3bc-255a-40a5-e026-964fd22345c1"
      },
      "execution_count": 1,
      "outputs": [
        {
          "output_type": "stream",
          "name": "stdout",
          "text": [
            "choose a day of the week: sunday\n",
            "it is a weekend\n"
          ]
        }
      ]
    },
    {
      "cell_type": "markdown",
      "source": [
        "2. **Password Strength Checker:**\n",
        "    - Ask the user to input a password.\n",
        "    - Check if the password has at least 8 characters, starts with an uppercase letter, and ends with a number. Provide feedback on its strength.\n"
      ],
      "metadata": {
        "id": "1JPiLpsURKzz"
      }
    },
    {
      "cell_type": "code",
      "source": [
        "pw=(input('password: '))\n",
        "if len(pw)<8:\n",
        "  print ('your password needs to be longer')\n",
        "if not pw[0].isupper():\n",
        "  print ('your first letter should be capitalized')\n",
        "if not pw[-1].isdigit():\n",
        "  print ('your must ends with a number')\n",
        "if len(pw)>8 and pw[0].isupper() and pw[-1].isdigit:\n",
        "  print ('your password is perfect')"
      ],
      "metadata": {
        "id": "sHB4UhrHRMy5",
        "colab": {
          "base_uri": "https://localhost:8080/"
        },
        "outputId": "894f940c-2247-4425-9ed7-a06730799d9e"
      },
      "execution_count": 2,
      "outputs": [
        {
          "output_type": "stream",
          "name": "stdout",
          "text": [
            "password: hehehehahaha123\n",
            "your first letter should be capitalized\n"
          ]
        }
      ]
    },
    {
      "cell_type": "markdown",
      "source": [
        "3. **Movie Ticket Pricing:**\n",
        "    - Movie theaters often have different pricing depending on age groups.\n",
        "    - Children under 12: $5, Teens (12-17): $7, Adults (18-59): $10, Seniors (60+): $6.\n",
        "    - Ask the user for their age and tell them the cost of a movie ticket.\n"
      ],
      "metadata": {
        "id": "QABbfxrVRNfo"
      }
    },
    {
      "cell_type": "code",
      "source": [
        "age=int(input('your age: '))\n",
        "if age <12:\n",
        "  print ('your ticket is $5')\n",
        "if age >12 and age <=17:\n",
        "  print ('your ticket is $7')\n",
        "if age >=18 and age <59:\n",
        "  print ('your ticket is $10')\n",
        "if age>=60:\n",
        "  print ('your ticket is $6')"
      ],
      "metadata": {
        "id": "-i4B1AYyRPGp",
        "colab": {
          "base_uri": "https://localhost:8080/"
        },
        "outputId": "9f02e621-f436-4a93-c249-15e867a80959"
      },
      "execution_count": null,
      "outputs": [
        {
          "output_type": "stream",
          "name": "stdout",
          "text": [
            "your age: 17\n",
            "your ticket is $7\n"
          ]
        }
      ]
    },
    {
      "cell_type": "markdown",
      "source": [
        "4. **Tax Calculator:**\n",
        "    - Depending on the amount of income, people are taxed at different rates.\n",
        "    - Income up to $10,000: No tax, Income $10,001-$50,000: 10% tax, Income $50,001 and above: 20% tax.\n",
        "    - Ask the user for their income and calculate the tax they owe.\n",
        "\n"
      ],
      "metadata": {
        "id": "4RMhCDsXRPTO"
      }
    },
    {
      "cell_type": "code",
      "source": [
        "income=int(input('your income: '))\n",
        "if income<10000:\n",
        "  print ('you do not need to pay tax')\n",
        "if income<50000 and income > 10001:\n",
        "  tax=round(income*0.1)\n",
        "  print ('tax you owe $',tax)\n",
        "else:\n",
        "  tax_2=round(income*0.2)\n",
        "  print ('tax you owe $',tax_2)"
      ],
      "metadata": {
        "id": "ijEDRr8FRSm0",
        "colab": {
          "base_uri": "https://localhost:8080/"
        },
        "outputId": "3066f44b-e61c-4741-d00e-bfa1a39745a8"
      },
      "execution_count": 9,
      "outputs": [
        {
          "output_type": "stream",
          "name": "stdout",
          "text": [
            "your income: 1234567890\n",
            "tax you owe $ 246913578\n"
          ]
        }
      ]
    },
    {
      "cell_type": "markdown",
      "source": [
        "5. **Discount Eligibility:**\n",
        "    - A store offers a discount to students and senior citizens.\n",
        "    - Ask the user if they are a student or a senior citizen (yes or no for each). If they answer \"yes\" to either, inform them they are eligible for a discount.\n",
        "\n"
      ],
      "metadata": {
        "id": "qonCcp_PRTDL"
      }
    },
    {
      "cell_type": "code",
      "source": [
        "stu=input('Are you a student?(yes or no) ').lower()\n",
        "sen=input('Are you a senior citizen? (yes or no) ').lower()\n",
        "if stu=='yes' or sen=='yes':\n",
        "  print ('You are eligible for a discount!')\n",
        "else:\n",
        "  print ('No avaliable discount!')"
      ],
      "metadata": {
        "id": "5YBnUfs-RUku",
        "colab": {
          "base_uri": "https://localhost:8080/"
        },
        "outputId": "fe17fbb8-a7d5-4bd0-ffd3-a5815a7fb4cf"
      },
      "execution_count": 36,
      "outputs": [
        {
          "output_type": "stream",
          "name": "stdout",
          "text": [
            "Are you a student?(yes or no) no\n",
            "Are you a senior citizen? (yes or no) yes\n",
            "You are eligible for a discount!\n"
          ]
        }
      ]
    },
    {
      "cell_type": "markdown",
      "source": [
        "6. **Shipping Cost Calculator:**\n",
        "    - Shipping costs vary based on the weight of a package.\n",
        "    - Weight up to 1kg: $5, Weight 1.1kg-5kg: $10, Weight above 5kg: $20.\n",
        "    - Ask the user for the weight of their package and tell them the shipping cost.\n",
        "\n"
      ],
      "metadata": {
        "id": "vSf3pJOFRVGk"
      }
    },
    {
      "cell_type": "code",
      "source": [
        "weight=float(input('the weight of your package? (in kg) '))\n",
        "if weight<1:\n",
        "  print ('your shipping cost is $5.')\n",
        "if weight>1.1 and weight <5:\n",
        "  print ('your shipping cost is $10.')\n",
        "if weight>5:\n",
        "  print ('your shipping cost is $20.')"
      ],
      "metadata": {
        "id": "1roU2zvFRWbR",
        "colab": {
          "base_uri": "https://localhost:8080/"
        },
        "outputId": "056a8029-9ae3-4a6f-8616-e6fcd6787d39"
      },
      "execution_count": 21,
      "outputs": [
        {
          "output_type": "stream",
          "name": "stdout",
          "text": [
            "the weight of your package? (in kg) 12\n",
            "your shipping cost is $20.\n"
          ]
        }
      ]
    },
    {
      "cell_type": "markdown",
      "source": [
        "7. **Drink Selector:**\n",
        "    - Ask the user for their age.\n",
        "    - If they are under 18, suggest a non-alcoholic drink (like juice or soda). If they are 18 and above, suggest an alcoholic beverage (like wine or beer)."
      ],
      "metadata": {
        "id": "WXtyKwyYRWzS"
      }
    },
    {
      "cell_type": "code",
      "source": [
        "age=int(input('your age: '))\n",
        "if age <18:\n",
        "  print ('drink suggestion: juice and soda')\n",
        "if age>18:\n",
        "  print ('beverage suggestion: wine and beer')"
      ],
      "metadata": {
        "id": "iG4YUGa5RXeM",
        "colab": {
          "base_uri": "https://localhost:8080/"
        },
        "outputId": "c8f02537-aea7-4553-e4c1-71591d64240c"
      },
      "execution_count": 22,
      "outputs": [
        {
          "output_type": "stream",
          "name": "stdout",
          "text": [
            "your age: 19\n",
            "beverage suggestion: wine and beer\n"
          ]
        }
      ]
    }
  ]
}