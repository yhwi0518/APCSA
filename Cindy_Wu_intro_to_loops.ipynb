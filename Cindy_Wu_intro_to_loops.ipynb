{
  "nbformat": 4,
  "nbformat_minor": 0,
  "metadata": {
    "colab": {
      "provenance": [],
      "include_colab_link": true
    },
    "kernelspec": {
      "name": "python3",
      "display_name": "Python 3"
    },
    "language_info": {
      "name": "python"
    }
  },
  "cells": [
    {
      "cell_type": "markdown",
      "metadata": {
        "id": "view-in-github",
        "colab_type": "text"
      },
      "source": [
        "<a href=\"https://colab.research.google.com/github/yhwi0518/APCSA/blob/main/Cindy_Wu_intro_to_loops.ipynb\" target=\"_parent\"><img src=\"https://colab.research.google.com/assets/colab-badge.svg\" alt=\"Open In Colab\"/></a>"
      ]
    },
    {
      "cell_type": "markdown",
      "source": [
        "\n",
        "### **Introduction to Loops**\n",
        "\n",
        "In programming, loops offer a way to perform a set of instructions repeatedly. They are fundamental for tasks that require the same action to be taken on a series of items, or for actions to be repeated until a certain condition is met.\n",
        "\n",
        "---\n",
        "\n",
        "### **Understanding the `while` Loop and its Applications**\n",
        "\n",
        "The `while` loop executes a block of code as long as a specified condition remains `True`.\n",
        "\n",
        "**Basic Syntax:**\n",
        "```python\n",
        "while condition:\n",
        "    # body of the loop\n",
        "```\n",
        "\n",
        "**Example:**\n",
        "```python\n",
        "count = 0\n",
        "while count < 5:\n",
        "    print(count)\n",
        "    count += 1\n",
        "```\n",
        "\n",
        "In the above example, the loop will print numbers from 0 to 4. The loop continues as long as `count` is less than 5.\n",
        "\n",
        "**Applications:**\n",
        "1. **Repeating an action** until a user decides to quit.\n",
        "2. **Waiting for an external condition** to change (e.g., waiting for user input).\n",
        "3. **Polling:** Checking repeatedly if a resource is available or a task is completed.\n",
        "\n",
        "---\n",
        "\n",
        "### **Creating Counters and Accumulators**\n",
        "\n",
        "**1. Counters:**\n",
        "A counter is a variable that is incremented or decremented with each iteration of a loop.\n",
        "\n",
        "**Example:**\n",
        "```python\n",
        "# Counting how many times a loop runs\n",
        "count = 0\n",
        "while count < 10:\n",
        "    print(\"Loop iteration:\", count)\n",
        "    count += 1\n",
        "```\n",
        "\n",
        "**2. Accumulators:**\n",
        "An accumulator is a variable that collects or accumulates a value over time within a loop.\n",
        "\n",
        "**Example:**\n",
        "```python\n",
        "# Summing numbers from 1 to 5\n",
        "total = 0\n",
        "number = 1\n",
        "while number <= 5:\n",
        "    total += number\n",
        "    number += 1\n",
        "print(\"Total sum:\", total)\n",
        "```\n",
        "\n",
        "In the above example, `total` is an accumulator that collects the sum of numbers from 1 to 5.\n",
        "\n",
        "\n"
      ],
      "metadata": {
        "id": "a2Db_gg2H9l2"
      }
    },
    {
      "cell_type": "code",
      "source": [
        "#Play around with the examples in this cell"
      ],
      "metadata": {
        "id": "ixvEg1OJI0vm"
      },
      "execution_count": null,
      "outputs": []
    },
    {
      "cell_type": "markdown",
      "source": [
        "---\n",
        "\n",
        "### **Practice Exercises:**\n",
        "\n",
        "1. **Positive Number Collector:** Ask the user to keep entering numbers. Stop when they enter a negative number and display the sum of all positive numbers entered.\n"
      ],
      "metadata": {
        "id": "icvXf-Q8I4tF"
      }
    },
    {
      "cell_type": "code",
      "source": [
        "#Ex1\n",
        "total = 0\n",
        "while number >=0:\n",
        "  number=int(input('enter number: '))\n",
        "  total += number\n",
        "  if number<0:\n",
        "    print('sum of number: ',total)"
      ],
      "metadata": {
        "id": "HWqs6QFuI6Pd",
        "colab": {
          "base_uri": "https://localhost:8080/"
        },
        "outputId": "3af56367-f463-4250-947c-a0176aaa6c16"
      },
      "execution_count": null,
      "outputs": [
        {
          "output_type": "stream",
          "name": "stdout",
          "text": [
            "enter number: 2\n",
            "enter number: 8\n",
            "enter number: 19\n",
            "enter number: 2\n",
            "enter number: 0\n",
            "enter number: -19\n",
            "sum of number:  12\n"
          ]
        }
      ]
    },
    {
      "cell_type": "markdown",
      "source": [
        "2. **Guessing Game:** Think of a number between 1 and 10. Allow the user to guess until they get the right number.\n"
      ],
      "metadata": {
        "id": "-_u-1EvmI8Dj"
      }
    },
    {
      "cell_type": "code",
      "source": [
        "#Ex2\n",
        "rnum = 7\n",
        "while number != rnum:\n",
        "  number=int(input('guess the8 number between 1 and 10: '))\n",
        "  if number ==rnum:\n",
        "    print('correct!')"
      ],
      "metadata": {
        "id": "pmd2ui8UI9nI",
        "colab": {
          "base_uri": "https://localhost:8080/"
        },
        "outputId": "5f37d62f-7abb-4324-defb-d93297a229ae"
      },
      "execution_count": null,
      "outputs": [
        {
          "output_type": "stream",
          "name": "stdout",
          "text": [
            "guess the8 number between 1 and 10: 5\n",
            "guess the8 number between 1 and 10: 9\n",
            "guess the8 number between 1 and 10: 7\n",
            "correct!\n"
          ]
        }
      ]
    },
    {
      "cell_type": "markdown",
      "source": [
        "3. **Exponential Growth:** Given a number, keep multiplying it by 2 until it exceeds 1000. Count how many multiplications were needed.\n"
      ],
      "metadata": {
        "id": "sMHpPBRQI_Kh"
      }
    },
    {
      "cell_type": "code",
      "source": [
        "#Ex3\n",
        "number = 20\n",
        "total = 0\n",
        "while number < 1000:\n",
        "  number*=2\n",
        "  total+=number\n",
        "  count=round(total/20)\n",
        "print(\"multiplication needs:\",count, 'times.')"
      ],
      "metadata": {
        "id": "5ueHSVhEJA5S",
        "colab": {
          "base_uri": "https://localhost:8080/"
        },
        "outputId": "b07ab51f-bbc2-4515-d6e2-2ea6ba1ad6b1"
      },
      "execution_count": null,
      "outputs": [
        {
          "output_type": "stream",
          "name": "stdout",
          "text": [
            "multiplication needs: 126 times.\n"
          ]
        }
      ]
    },
    {
      "cell_type": "markdown",
      "source": [
        "4. **Password Retry:** Allow a user 3 attempts to enter a correct password.\n",
        "\n",
        "\n"
      ],
      "metadata": {
        "id": "R37qmrpgJCZY"
      }
    },
    {
      "cell_type": "code",
      "source": [
        "#Ex4\n",
        "cpw=123\n",
        "ttotal = 3\n",
        "total=0\n",
        "while total<ttotal:\n",
        "  pw=int(input('enter password: '))\n",
        "  total+=1\n",
        "  if pw==cpw:\n",
        "    print('welcome back')\n",
        "    break\n",
        "if total==3:\n",
        "  print ('sorry, try again after 1 minute')"
      ],
      "metadata": {
        "id": "-mVz_khOJDt3",
        "colab": {
          "base_uri": "https://localhost:8080/"
        },
        "outputId": "d5c65cde-f26f-44e8-823a-aa8d9eccea9f"
      },
      "execution_count": null,
      "outputs": [
        {
          "output_type": "stream",
          "name": "stdout",
          "text": [
            "enter password: 1234\n",
            "enter password: 234\n",
            "enter password: 1245\n",
            "sorry, try again after 1 minute\n"
          ]
        }
      ]
    },
    {
      "cell_type": "markdown",
      "source": [
        "5. **Interest Calculator:** If you invest $100 at a 5% annual interest rate, how many years will it take for the money to double using compound interest?\n"
      ],
      "metadata": {
        "id": "xE9VCCIPJEtP"
      }
    },
    {
      "cell_type": "code",
      "source": [
        "#Ex5\n",
        "origin=100\n",
        "rate=1.05\n",
        "aim=origin*2\n",
        "total=0\n",
        "while origin<aim:\n",
        "  origin*=rate\n",
        "  total+=1\n",
        "print (\"you will take\",total,'years to reach double')"
      ],
      "metadata": {
        "id": "_muBoRqzJGB3",
        "colab": {
          "base_uri": "https://localhost:8080/"
        },
        "outputId": "a2e001e9-25c9-444d-a179-fd86d886624f"
      },
      "execution_count": null,
      "outputs": [
        {
          "output_type": "stream",
          "name": "stdout",
          "text": [
            "you will take 15 years to reach double\n"
          ]
        }
      ]
    },
    {
      "cell_type": "markdown",
      "source": [
        "6. **Number of Divisors:** For a given number, find out how many divisors it has.\n"
      ],
      "metadata": {
        "id": "UGn7LFPyJHUi"
      }
    },
    {
      "cell_type": "code",
      "source": [
        "#Ex6\n",
        "number= int(input('choose a number: '))\n",
        "divisor=0\n",
        "count=1\n",
        "while count<=number:\n",
        "  if number%count==0:\n",
        "    divisor+=1\n",
        "  count+=1\n",
        "print ('your number has', divisor)"
      ],
      "metadata": {
        "id": "50u_gFOuJJBB",
        "colab": {
          "base_uri": "https://localhost:8080/"
        },
        "outputId": "5439dbda-79e7-4dde-851b-319ae2156316"
      },
      "execution_count": null,
      "outputs": [
        {
          "output_type": "stream",
          "name": "stdout",
          "text": [
            "choose a number: 12\n",
            "your number has 6\n"
          ]
        }
      ]
    },
    {
      "cell_type": "markdown",
      "source": [
        "\n",
        "7. **User Input Collector:** Keep asking the user for input until they type \"exit\" or \"quit\".\n"
      ],
      "metadata": {
        "id": "LAoVS7NyJLDl"
      }
    },
    {
      "cell_type": "code",
      "source": [
        "#Ex7\n",
        "typing=str(input('guess a word: '))\n",
        "while typing!='exit' or typing!='quit':\n",
        "  typing=str(input('guess a word: '))\n",
        "  if typing=='exit' or typing=='quit':\n",
        "    print('you got the word correct!')\n",
        "    break"
      ],
      "metadata": {
        "id": "51EYMHtzJMVE",
        "colab": {
          "base_uri": "https://localhost:8080/"
        },
        "outputId": "524e07cf-1840-4ea8-aaa5-0ac4eed6d4e3"
      },
      "execution_count": null,
      "outputs": [
        {
          "output_type": "stream",
          "name": "stdout",
          "text": [
            "guess a word: welcome\n",
            "guess a word: sad\n",
            "guess a word: mad\n",
            "guess a word: yellow\n",
            "guess a word: exit\n",
            "you got the word correct!\n"
          ]
        }
      ]
    },
    {
      "cell_type": "markdown",
      "source": [
        "8. **Factorial Calculator:** Calculate the factorial of a number using a loop.\n"
      ],
      "metadata": {
        "id": "-Bmx7J87JOFD"
      }
    },
    {
      "cell_type": "code",
      "source": [
        "#Ex8\n",
        "nvalue=int(input('choose a number: '))\n",
        "number=nvalue\n",
        "while nvalue>1:\n",
        "  number-=1\n",
        "  nvalue*=number\n",
        "  if number==1:\n",
        "    break\n",
        "print(\"your number's factorial is\", nvalue*number)"
      ],
      "metadata": {
        "id": "i_Ai-9CpJPf3",
        "colab": {
          "base_uri": "https://localhost:8080/"
        },
        "outputId": "ce7b729c-1622-4808-f1a7-da9a2b8e0216"
      },
      "execution_count": 16,
      "outputs": [
        {
          "output_type": "stream",
          "name": "stdout",
          "text": [
            "choose a number: 3\n",
            "your number's factorial is 6\n"
          ]
        }
      ]
    },
    {
      "cell_type": "markdown",
      "source": [
        "9. **Fibonacci Sequence:** Generate the first N numbers of the Fibonacci sequence.\n"
      ],
      "metadata": {
        "id": "DC6RN9NGJQpX"
      }
    },
    {
      "cell_type": "code",
      "source": [
        "#Ex9\n",
        "number=int(input('choose a number: '))\n",
        "sequence=0\n",
        "na=0\n",
        "nb=1\n",
        "while number>sequence:\n",
        "  print(na)\n",
        "  nc=na+nb\n",
        "  na=nb\n",
        "  nb=nc\n",
        "  sequence+=1"
      ],
      "metadata": {
        "id": "6RV7fRW9JR-b",
        "colab": {
          "base_uri": "https://localhost:8080/"
        },
        "outputId": "2bd0fa25-4ba9-469d-bfb0-0a7cbf77262f"
      },
      "execution_count": 27,
      "outputs": [
        {
          "output_type": "stream",
          "name": "stdout",
          "text": [
            "choose a number: 6\n",
            "0\n",
            "1\n",
            "1\n",
            "2\n",
            "3\n",
            "5\n"
          ]
        }
      ]
    },
    {
      "cell_type": "markdown",
      "source": [
        "10. **Decreasing Counter:** Start from 100 and count down by sevens. Stop if the number goes negative."
      ],
      "metadata": {
        "id": "dnX8zfHcJTXi"
      }
    },
    {
      "cell_type": "code",
      "source": [
        "#Ex10\n",
        "number=100\n",
        "down=7\n",
        "while number>=0:\n",
        "  print(number)\n",
        "  number-=down"
      ],
      "metadata": {
        "id": "2bkZxvmIJUHN",
        "colab": {
          "base_uri": "https://localhost:8080/"
        },
        "outputId": "e3403bf5-a986-4704-f4aa-489b972b5083"
      },
      "execution_count": 30,
      "outputs": [
        {
          "output_type": "stream",
          "name": "stdout",
          "text": [
            "100\n",
            "93\n",
            "86\n",
            "79\n",
            "72\n",
            "65\n",
            "58\n",
            "51\n",
            "44\n",
            "37\n",
            "30\n",
            "23\n",
            "16\n",
            "9\n",
            "2\n"
          ]
        }
      ]
    }
  ]
}