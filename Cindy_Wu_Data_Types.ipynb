{
  "nbformat": 4,
  "nbformat_minor": 0,
  "metadata": {
    "colab": {
      "provenance": []
    },
    "kernelspec": {
      "name": "python3",
      "display_name": "Python 3"
    },
    "language_info": {
      "name": "python"
    }
  },
  "cells": [
    {
      "cell_type": "markdown",
      "source": [
        "\n",
        "### **Data Types Introduction**\n",
        "\n",
        "- **What are Data Types?**\n",
        "    - In computer science, a data type is a classification that specifies which type of value a variable can hold. Think of it as a label for the kind of data (e.g., numbers, texts, true/false values) we're dealing with.\n",
        "    - For instance, if we label something as a 'text' type, it means the variable will hold textual information like names, addresses, etc.\n",
        "\n",
        "#### **Why Do We Need Different Data Types?**\n",
        "1. **Efficiency:** Different data types use different amounts of memory. By choosing the right data type, we ensure our programs run efficiently.\n",
        "2. **Precision:** Some tasks require precision. For instance, financial calculations might need decimal values instead of whole numbers.\n",
        "3. **Clarity:** Using the right data type makes the code more readable and understandable.\n",
        "4. **Error Prevention:** Certain operations are only valid for specific data types. Having the right type can prevent errors. For example, you wouldn't want to accidentally add someone's name to their age.\n",
        "\n",
        "---\n",
        "\n",
        "### **Integers and Floats**\n",
        "\n",
        "#### **Definition and Examples of Integers and Floats**\n",
        "- **Integers:**\n",
        "    - These are whole numbers that can be positive, negative, or zero. They do not have decimal points.\n",
        "    - Examples: -3, -2, -1, 0, 1, 2, 3, ...\n",
        "- **Floats:**\n",
        "    - Also known as floating-point numbers, these are numbers that have a decimal point.\n",
        "    - They can represent real numbers (both rational and irrational numbers).\n",
        "    - Examples: -3.5, 0.0, 2.71, 3.14, ...\n",
        "\n",
        "#### **The Difference Between the Two**\n",
        "1. **Representation:** Integers are whole numbers without a decimal point, while floats have a decimal point.\n",
        "2. **Memory:** Floats typically require more memory than integers due to the precision they carry.\n",
        "3. **Operations:** Some operations might yield different results. For instance, dividing two integers might truncate the result, whereas dividing two floats will retain the decimal portion.\n",
        "\n",
        "#### **Practice: Create Variables of Integer and Float Types and Perform Basic Arithmetic Operations**\n",
        "1. **Creating Variables:**\n",
        "```python\n",
        "int_variable = 5\n",
        "float_variable = 5.5\n",
        "```\n",
        "2. **Arithmetic Operations:**\n",
        "    - **Addition:** `int_variable + 3` will result in `8`, but `float_variable + 3` will result in `8.5`.\n",
        "    - **Division:** `int_variable / 2` might differ in some languages in its result compared to `float_variable / 2`. In Python 3, both will return a float, but in some languages, integer division truncates the result.\n",
        "    - **Multiplication:** `int_variable * 2` will result in `10`, and `float_variable * 2` will result in `11.0`.\n",
        "\n",
        "3. **Experimentation:** Create your own integer and float variables and experiment with various arithmetic operations to observe the outcomes.\n",
        "\n",
        "---\n"
      ],
      "metadata": {
        "id": "LBu00G47APLR"
      }
    },
    {
      "cell_type": "code",
      "source": [
        "#Experiment with integers and floats in this cell\n",
        "int_variable = 10\n",
        "float_variable = 3.9\n",
        "\n",
        "print (int_variable+3)"
      ],
      "metadata": {
        "id": "LCcqz0c-EMxq",
        "colab": {
          "base_uri": "https://localhost:8080/"
        },
        "outputId": "e9439a15-7406-4d38-bbdd-b25d3b2e74e1"
      },
      "execution_count": null,
      "outputs": [
        {
          "output_type": "stream",
          "name": "stdout",
          "text": [
            "13\n"
          ]
        }
      ]
    },
    {
      "cell_type": "markdown",
      "source": [
        "**1. Coffee Shop Calculator**\n",
        "   \n",
        "**Objective:** Calculate the total cost of items ordered at a coffee shop.\n",
        "\n",
        "- **Instructions:**\n",
        "   - Imagine you're visiting your favorite coffee shop.\n",
        "   - Use the `input()` function to ask the user to specify the number of espressos, lattes, and muffins they'd like to \"buy\". Convert these to integer values.\n",
        "   - Similarly, take user input for the prices of each item and convert these to float values.\n",
        "   - Write a program to calculate and display the total cost.\n",
        "\n",
        "---"
      ],
      "metadata": {
        "id": "bBnOPo9OEAEW"
      }
    },
    {
      "cell_type": "code",
      "source": [
        "espresso_price=3.50\n",
        "latte_price=4.50\n",
        "muffin_price=5.50\n",
        "\n",
        "espressos=int(input(\"number of espresso: \"))\n",
        "lattes=int(input(\"number of lattes: \"))\n",
        "muffins = int(input(\"number of muffins: \"))\n",
        "print (\"total price $\", espressos*espresso_price+lattes*latte_price+muffins*muffin_price)"
      ],
      "metadata": {
        "colab": {
          "base_uri": "https://localhost:8080/"
        },
        "id": "x6IumLzkYfz5",
        "outputId": "12346d05-0dc7-4be9-db39-474817d9ed80"
      },
      "execution_count": 3,
      "outputs": [
        {
          "output_type": "stream",
          "name": "stdout",
          "text": [
            "number of espresso: 5\n",
            "number of lattes: 5\n",
            "number of muffins: 5\n",
            "total price $ 67.5\n"
          ]
        }
      ]
    },
    {
      "cell_type": "markdown",
      "source": [
        "**2. Rocket Launch Countdown**\n",
        "   \n",
        "**Objective:** Simulate a rocket launch countdown.\n",
        "\n",
        "- **Instructions:**\n",
        "   - Use the `input()` function to ask the user for a starting countdown number and convert it to an integer.\n",
        "   - Write a loop that subtracts 1 from the variable and prints the current countdown number each iteration.\n",
        "   - Add a delay (using time.sleep in Python) of 0.5 seconds between each countdown number.\n",
        "\n",
        "---\n"
      ],
      "metadata": {
        "id": "5cn16bvxEiz5"
      }
    },
    {
      "cell_type": "code",
      "source": [
        "#Your code for exercise 2 in here\n",
        "import time\n",
        "countdown=int(input(\"countdown: \"))\n",
        "print (' ')\n",
        "while countdown>0:\n",
        "  print(countdown)\n",
        "  countdown-=1\n",
        "  time.sleep(0.5)\n",
        "\n",
        "print(\"yay\")"
      ],
      "metadata": {
        "id": "ys1WJFJWEncP",
        "colab": {
          "base_uri": "https://localhost:8080/"
        },
        "outputId": "81d05b1e-8eb3-4bbb-9c77-1cba4d7187d1"
      },
      "execution_count": 5,
      "outputs": [
        {
          "output_type": "stream",
          "name": "stdout",
          "text": [
            "countdown: 4\n",
            " \n",
            "4\n",
            "3\n",
            "2\n",
            "1\n",
            "yay\n"
          ]
        }
      ]
    },
    {
      "cell_type": "markdown",
      "source": [
        "**3. Your Weight on Other Planets**\n",
        "   \n",
        "**Objective:** Find out how much you'd weigh on different planets based on their gravity.\n",
        "\n",
        "- **Instructions:**\n",
        "   - Use the `input()` function to ask the user for their weight on Earth and convert this to a float.\n",
        "   - Create float variables for the gravity factor of different planets (e.g., Mars is about 0.38 of Earth's gravity).\n",
        "   - Calculate and display how much they'd weigh on each of these planets.\n",
        "\n",
        "---"
      ],
      "metadata": {
        "id": "_4CLsHIKEsGa"
      }
    },
    {
      "cell_type": "code",
      "source": [
        "#Exercise 3\n",
        "weight=int(input('your weight on Earth: '))\n",
        "print ('mars',weight*0.38)\n",
        "print('jupiter',weight*2.53)\n",
        "print('venus',weight*0.9)\n",
        "print('moon',weight*0.17)\n",
        "print ('mercury', weight*0.38)\n",
        "print ('saturn', weight*1.07)\n",
        "print ('uranus', weight*0.89)\n",
        "print ('neptune', weight*1.14)"
      ],
      "metadata": {
        "id": "2CGVY3iiEvR9",
        "colab": {
          "base_uri": "https://localhost:8080/"
        },
        "outputId": "3f8819b4-f855-4a4f-b72f-909bb8608b72"
      },
      "execution_count": 6,
      "outputs": [
        {
          "output_type": "stream",
          "name": "stdout",
          "text": [
            "your weight on Earth: 100\n",
            "mars 38.0\n",
            "jupiter 252.99999999999997\n",
            "venus 90.0\n",
            "moon 17.0\n",
            "mercury 38.0\n",
            "saturn 107.0\n",
            "uranus 89.0\n",
            "neptune 113.99999999999999\n"
          ]
        }
      ]
    },
    {
      "cell_type": "markdown",
      "source": [
        "**4. Pizza Party Calculator**\n",
        "   \n",
        "**Objective:** Calculate the cost per slice of pizza.\n",
        "\n",
        "- **Instructions:**\n",
        "   - Use the `input()` function to ask the user how many pizzas they bought and the total cost. Convert these values appropriately (integer for number of pizzas, float for cost).\n",
        "   - Ask the user to specify how many slices each pizza has and convert this to an integer.\n",
        "   - Calculate and display the cost per slice.\n",
        "\n",
        "---"
      ],
      "metadata": {
        "id": "iSGrrgiNExxp"
      }
    },
    {
      "cell_type": "code",
      "source": [
        "#Exercise 4\n",
        "pizza=int(input('how many pizzas?: '))\n",
        "pizza_price=10\n",
        "print('pizza_total', pizza*pizza_price)\n",
        "\n",
        "pizza_slices=int(input('how many slices each pizza has?: '))\n",
        "print('price of pizza pre slice', pizza*pizza_price/pizza_slices)"
      ],
      "metadata": {
        "id": "QFiXisVwE0ZR",
        "colab": {
          "base_uri": "https://localhost:8080/"
        },
        "outputId": "326a79e2-138a-435f-a6d6-d3fe01a1c838"
      },
      "execution_count": 8,
      "outputs": [
        {
          "output_type": "stream",
          "name": "stdout",
          "text": [
            "how many pizzas?: 100\n",
            "pizza_total 1000\n",
            "how many slices each pizza has?: 2\n",
            "price of pizza pre slice 500.0\n"
          ]
        }
      ]
    },
    {
      "cell_type": "markdown",
      "source": [
        "\n",
        "**5. Travel Budget Calculator**\n",
        "   \n",
        "**Objective:** Calculate the total budget required for a trip.\n",
        "\n",
        "- **Instructions:**\n",
        "   - Imagine you're planning a trip to your dream destination.\n",
        "   - Use the `input()` function to ask the user for the number of days they plan to stay and convert this to an integer.\n",
        "   - Ask the user to specify the estimated daily expenses for food, accommodation, and sightseeing. Convert these to float values.\n",
        "   - Write a program to calculate and display the total estimated cost for the trip.\n",
        "\n",
        "---"
      ],
      "metadata": {
        "id": "bgTECsKHE3CF"
      }
    },
    {
      "cell_type": "code",
      "source": [
        "#Exercise 5\n",
        "print ('TRIP TO BALI:')\n",
        "day=int(input('how many days are you staying?: '))\n",
        "budget=float(input('how much do you have for your daily food, accommodation, and sightseeing budgets?: '))\n",
        "print ('total estimated cost for the whole trip', day*budget)"
      ],
      "metadata": {
        "id": "sT4Q-aYuE4jM",
        "colab": {
          "base_uri": "https://localhost:8080/"
        },
        "outputId": "8f0df1d5-524c-48c3-d64c-cb269c9801ae"
      },
      "execution_count": 9,
      "outputs": [
        {
          "output_type": "stream",
          "name": "stdout",
          "text": [
            "TRIP TO BALI:\n",
            "how many days are you staying?: 100\n",
            "how much do you have for your daily food, accommodation, and sightseeing budgets?: 2\n",
            "total estimated cost for the whole trip 200.0\n"
          ]
        }
      ]
    }
  ]
}