{
  "nbformat": 4,
  "nbformat_minor": 0,
  "metadata": {
    "colab": {
      "provenance": []
    },
    "kernelspec": {
      "name": "python3",
      "display_name": "Python 3"
    },
    "language_info": {
      "name": "python"
    }
  },
  "cells": [
    {
      "cell_type": "markdown",
      "source": [
        "### **String Manipulation: Concatenation and Repetition**\n",
        "\n",
        "**String Concatenation:**\n",
        "- **Definition:** Combining two or more strings end-to-end.\n",
        "- **Operator:** The `+` operator is used for string concatenation.\n",
        "- **Example:**\n",
        "  ```python\n",
        "  first_name = \"John\"\n",
        "  last_name = \"Doe\"\n",
        "  full_name = first_name + \" \" + last_name  # Results in \"John Doe\"\n",
        "  ```\n",
        "\n",
        "**String Repetition:**\n",
        "- **Definition:** Repeating a string multiple times.\n",
        "- **Operator:** The `*` operator is used for string repetition.\n",
        "- **Example:**\n",
        "  ```python\n",
        "  word = \"echo\"\n",
        "  repeated_word = word * 3  # Results in \"echoechoecho\"\n",
        "  ```"
      ],
      "metadata": {
        "id": "XP9wGbNUyyQw"
      }
    },
    {
      "cell_type": "markdown",
      "source": [
        "**Practice:**\n",
        "1. **Fruit Salad:** Ask the user for their two favorite fruits. Concatenate them to form a new fruit name.\n",
        "\n"
      ],
      "metadata": {
        "id": "1-CbJq8Ey6zA"
      }
    },
    {
      "cell_type": "code",
      "source": [
        "#Ex1\n",
        "fruit1 = str(input('what is your favorite fruit?: '))\n",
        "fruit2= str(input('what is your next favorite fruit?: '))\n",
        "full=fruit1+ \" \"+fruit2\n",
        "print ('here is your new fruit name: ', full)"
      ],
      "metadata": {
        "id": "aamagxLxy-Yj",
        "colab": {
          "base_uri": "https://localhost:8080/"
        },
        "outputId": "c07310ea-9c75-491c-8eda-3fce6bed3714"
      },
      "execution_count": null,
      "outputs": [
        {
          "output_type": "stream",
          "name": "stdout",
          "text": [
            "what is your favorite fruit?: apple\n",
            "what is your next favorite fruit?: pineapple\n",
            "here is your new fruit name:  apple pineapple\n"
          ]
        }
      ]
    },
    {
      "cell_type": "markdown",
      "source": [
        "\n",
        "2. **Echo Chamber:** Ask the user for a word and a number. Repeat the word as many times as the number they've provided."
      ],
      "metadata": {
        "id": "sXAvgbTCzAs-"
      }
    },
    {
      "cell_type": "code",
      "source": [
        "#Ex2\n",
        "word=str(input('choose a word that pop up in your mind: '))\n",
        "num=int(input('choose your favorite: '))\n",
        "print (word*num)"
      ],
      "metadata": {
        "id": "otlrxyquzCrb",
        "colab": {
          "base_uri": "https://localhost:8080/"
        },
        "outputId": "513ba5ba-b8e1-4d0a-d9d3-30ae0c670f5b"
      },
      "execution_count": null,
      "outputs": [
        {
          "output_type": "stream",
          "name": "stdout",
          "text": [
            "choose a word that pop up in your mind: cindy\n",
            "choose your favorite: 5\n",
            "cindycindycindycindycindy\n"
          ]
        }
      ]
    },
    {
      "cell_type": "markdown",
      "source": [
        "\n",
        "3. **Full Name Formatter:** Ask the user for their first name, middle name, and last name. Display their full name by concatenating these strings."
      ],
      "metadata": {
        "id": "LqkkcBxuzERf"
      }
    },
    {
      "cell_type": "code",
      "source": [
        "#Ex3\n",
        "first=str(input('your first name: '))\n",
        "middle= str(input('your middle name: '))\n",
        "last=str(input('your last name: '))\n",
        "print ('your full name:', first+\" \"+middle+\" \"+last)"
      ],
      "metadata": {
        "id": "pTtJKK9dzFRp",
        "colab": {
          "base_uri": "https://localhost:8080/"
        },
        "outputId": "ef8a4ccb-2472-41c5-ae10-fb0aa13dbb01"
      },
      "execution_count": null,
      "outputs": [
        {
          "output_type": "stream",
          "name": "stdout",
          "text": [
            "your first name: Cindy\n",
            "your middle name: Yahsin\n",
            "your last name: Wu\n",
            "your full name: Cindy Yahsin Wu\n"
          ]
        }
      ]
    },
    {
      "cell_type": "markdown",
      "source": [
        "### **Basic String Methods**\n",
        "\n",
        "**String Methods:**\n",
        "- **Definition:** Built-in functions in Python that can be called on a string to perform specific operations.\n",
        "- **Common Methods:**\n",
        "  - `upper()`: Converts the string to uppercase.\n",
        "  - `lower()`: Converts the string to lowercase.\n",
        "  - `title()`: Converts the string to title case (first letter of each word is capitalized).\n",
        "  - `len()`: Returns the length of the string.\n",
        "\n",
        "**String Slicing and Indexing:**\n",
        "- **Indexing:** Accessing a single character in a string using its position. Python string indices start at 0.\n",
        "  ```python\n",
        "  word = \"python\"\n",
        "  first_letter = word[0]  # Results in \"p\"\n",
        "  ```\n",
        "- **Slicing:** Accessing a range of characters in a string.\n",
        "  ```python\n",
        "  word = \"python\"\n",
        "  slice_word = word[1:4]  # Results in \"yth\"\n",
        "  ```\n",
        "\n",
        "\n"
      ],
      "metadata": {
        "id": "PbFzoj9EzHCn"
      }
    },
    {
      "cell_type": "markdown",
      "source": [
        "**Practice:**\n",
        "1. **Name Formatter:**\n",
        "   - Ask the user for their full name.\n",
        "   - Display their name in uppercase, lowercase, and title case.\n",
        "   - Show the length of their name."
      ],
      "metadata": {
        "id": "PqvCHbWkzbcK"
      }
    },
    {
      "cell_type": "code",
      "source": [
        "#Ex1\n",
        "full=str(input('Type in your name: '))\n",
        "print (full.upper())\n",
        "print (full.lower())\n",
        "print (full.title())"
      ],
      "metadata": {
        "id": "gyuRgCP-zZDV",
        "colab": {
          "base_uri": "https://localhost:8080/"
        },
        "outputId": "b6041e6f-8db8-4e5c-eefe-9cb8b8c555b0"
      },
      "execution_count": null,
      "outputs": [
        {
          "output_type": "stream",
          "name": "stdout",
          "text": [
            "Type in your name: Fish\n",
            "FISH\n",
            "fish\n",
            "Fish\n"
          ]
        }
      ]
    },
    {
      "cell_type": "markdown",
      "source": [
        "2. **Initials Extractor:**\n",
        "   - Ask the user for their first name and last name.\n",
        "   - Display their initials by extracting the first character from both names."
      ],
      "metadata": {
        "id": "m5XX1vRzzd-1"
      }
    },
    {
      "cell_type": "code",
      "source": [
        "#Ex2\n",
        "fname=str(input('insert your first name: '))\n",
        "lname=str(input('insert your last name: '))\n",
        "print (fname[0],',',lname[0])"
      ],
      "metadata": {
        "id": "0RegpgLazf1R",
        "colab": {
          "base_uri": "https://localhost:8080/"
        },
        "outputId": "74caff48-e5cc-46c2-ed53-57ae1bf8c83d"
      },
      "execution_count": null,
      "outputs": [
        {
          "output_type": "stream",
          "name": "stdout",
          "text": [
            "insert your first name: Cindy\n",
            "insert your last name: Wu\n",
            "C , W\n"
          ]
        }
      ]
    },
    {
      "cell_type": "markdown",
      "source": [
        "*CHALLENGE!!!\n",
        "This is a tough one that requires concepts we have not learnt in class yet!*\n",
        "3. **Secret Code:**\n",
        "   - Ask the user for a word.\n",
        "   - Display the word with every second letter in uppercase and the others in lowercase."
      ],
      "metadata": {
        "id": "moPvuFqJzhNz"
      }
    },
    {
      "cell_type": "code",
      "source": [],
      "metadata": {
        "id": "Hl77BxQxziQL",
        "colab": {
          "base_uri": "https://localhost:8080/",
          "height": 268
        },
        "outputId": "05f95d65-47ff-4e6d-d0a7-6b849fb3a3b2"
      },
      "execution_count": null,
      "outputs": [
        {
          "name": "stdout",
          "output_type": "stream",
          "text": [
            "type a wordhiewo;\n"
          ]
        },
        {
          "output_type": "error",
          "ename": "NameError",
          "evalue": "ignored",
          "traceback": [
            "\u001b[0;31m---------------------------------------------------------------------------\u001b[0m",
            "\u001b[0;31mNameError\u001b[0m                                 Traceback (most recent call last)",
            "\u001b[0;32m<ipython-input-3-b79fc4907c0a>\u001b[0m in \u001b[0;36m<cell line: 2>\u001b[0;34m()\u001b[0m\n\u001b[1;32m      2\u001b[0m \u001b[0;32mfor\u001b[0m \u001b[0mi\u001b[0m \u001b[0;32min\u001b[0m \u001b[0mrange\u001b[0m\u001b[0;34m(\u001b[0m\u001b[0mlen\u001b[0m\u001b[0;34m(\u001b[0m\u001b[0mw\u001b[0m\u001b[0;34m)\u001b[0m\u001b[0;34m)\u001b[0m\u001b[0;34m:\u001b[0m\u001b[0;34m\u001b[0m\u001b[0;34m\u001b[0m\u001b[0m\n\u001b[1;32m      3\u001b[0m   \u001b[0;32mif\u001b[0m \u001b[0mi\u001b[0m\u001b[0;34m%\u001b[0m\u001b[0;36m2\u001b[0m\u001b[0;34m==\u001b[0m\u001b[0;36m0\u001b[0m\u001b[0;34m:\u001b[0m\u001b[0;34m\u001b[0m\u001b[0;34m\u001b[0m\u001b[0m\n\u001b[0;32m----> 4\u001b[0;31m     \u001b[0mw\u001b[0m\u001b[0;34m+=\u001b[0m\u001b[0mnw\u001b[0m\u001b[0;34m[\u001b[0m\u001b[0mi\u001b[0m\u001b[0;34m]\u001b[0m\u001b[0;34m.\u001b[0m\u001b[0mlower\u001b[0m\u001b[0;34m(\u001b[0m\u001b[0;34m)\u001b[0m\u001b[0;34m\u001b[0m\u001b[0;34m\u001b[0m\u001b[0m\n\u001b[0m\u001b[1;32m      5\u001b[0m   \u001b[0;32melse\u001b[0m\u001b[0;34m:\u001b[0m\u001b[0;34m\u001b[0m\u001b[0;34m\u001b[0m\u001b[0m\n\u001b[1;32m      6\u001b[0m     \u001b[0mw\u001b[0m\u001b[0;34m+=\u001b[0m\u001b[0mnw\u001b[0m\u001b[0;34m[\u001b[0m\u001b[0mi\u001b[0m\u001b[0;34m]\u001b[0m\u001b[0;34m.\u001b[0m\u001b[0mupper\u001b[0m\u001b[0;34m(\u001b[0m\u001b[0;34m)\u001b[0m\u001b[0;34m\u001b[0m\u001b[0;34m\u001b[0m\u001b[0m\n",
            "\u001b[0;31mNameError\u001b[0m: name 'nw' is not defined"
          ]
        }
      ]
    }
  ]
}